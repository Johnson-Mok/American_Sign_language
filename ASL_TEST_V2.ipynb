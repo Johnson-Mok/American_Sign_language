{
 "cells": [
  {
   "attachments": {},
   "cell_type": "markdown",
   "metadata": {},
   "source": [
    "https://www.kaggle.com/code/irfanarisani/asl-recognition-based-on-cnn-architecture"
   ]
  },
  {
   "cell_type": "code",
   "execution_count": 1,
   "metadata": {},
   "outputs": [],
   "source": [
    "import tensorflow as tf\n",
    "from tensorflow.keras.preprocessing.image import ImageDataGenerator\n",
    "\n",
    "import os, shutil\n",
    "import numpy as np\n",
    "import pandas as pd\n",
    "import matplotlib.pyplot as plt\n",
    "\n",
    "import splitfolders\n",
    "\n",
    "# import required packaged for CNN\n",
    "from keras.models import Sequential\n",
    "from keras.layers import Dense, Dropout, Flatten, BatchNormalizationV2\n",
    "from keras.layers.convolutional import Conv2D\n",
    "from keras.layers.convolutional import MaxPooling2D\n",
    "from keras.callbacks import ModelCheckpoint"
   ]
  },
  {
   "cell_type": "code",
   "execution_count": 2,
   "metadata": {},
   "outputs": [
    {
     "name": "stdout",
     "output_type": "stream",
     "text": [
      "Successfully copied Train folder to the input folder\n"
     ]
    }
   ],
   "source": [
    "# Copy datasets to current working directory\n",
    "dirData = os.path.join(os.getcwd(), \"Data\")\n",
    "\n",
    "# Specify the source folder path\n",
    "source_folder = os.path.join(dirData, \"Train_ABCD\")\n",
    "\n",
    "# Specify the destination folder path\n",
    "destination_folder = os.path.join(dirData, \"input\")\n",
    "\n",
    "# Copy the source folder to the destination folder\n",
    "if not os.path.exists(destination_folder):\n",
    "    shutil.copytree(source_folder, destination_folder)\n",
    "    print(\"Successfully copied Train folder to the input folder\")\n",
    "else:\n",
    "    print(\"Train folder has already been copied\")"
   ]
  },
  {
   "cell_type": "code",
   "execution_count": 3,
   "metadata": {},
   "outputs": [],
   "source": [
    "# Start clean\n",
    "try:\n",
    "    shutil.rmtree(os.path.join(dirData, 'splitdata'))\n",
    "    shutil.rmtree(os.path.join(dirData, 'train'))\n",
    "    shutil.rmtree(os.path.join(dirData, 'val'))\n",
    "except:\n",
    "    pass"
   ]
  },
  {
   "cell_type": "code",
   "execution_count": 4,
   "metadata": {},
   "outputs": [
    {
     "name": "stdout",
     "output_type": "stream",
     "text": [
      "Successfully split up the data\n"
     ]
    }
   ],
   "source": [
    "def split_data_train_val(dirData: str) -> None:\n",
    "    \"\"\"Split the training data into 'train' and 'val' folders.\n",
    "\n",
    "    Args:\n",
    "        dirData: The directory path of the data.\n",
    "\n",
    "    Returns:\n",
    "        None\n",
    "    \"\"\"\n",
    "\n",
    "    split_data_dir = os.path.join(dirData, \"splitdata\")\n",
    "\n",
    "    # Check if the train-val split already exists\n",
    "    if os.path.exists(split_data_dir):\n",
    "        print(\"Train-val split already exists.\")\n",
    "        return\n",
    "\n",
    "    # Perform the train-val split\n",
    "    try:\n",
    "        splitfolders.ratio(\n",
    "            os.path.join(dirData, 'input'),\n",
    "            output=os.path.join(dirData, 'splitdata'),\n",
    "            ratio=(0.80, 0.20)\n",
    "        )\n",
    "        print(\"Successfully split up the data\")\n",
    "    except Exception as e:\n",
    "        print(\"Splitting failed:\", str(e))\n",
    "\n",
    "\n",
    "# split data training into two folders, named 'train' and 'val'\n",
    "split_data_train_val(dirData)\n"
   ]
  },
  {
   "cell_type": "code",
   "execution_count": 5,
   "metadata": {},
   "outputs": [],
   "source": [
    "# delete the folder named 'input'\n",
    "try:\n",
    "    shutil.rmtree(os.path.join(dirData, 'input'))\n",
    "except:\n",
    "    pass"
   ]
  },
  {
   "cell_type": "code",
   "execution_count": 6,
   "metadata": {},
   "outputs": [],
   "source": [
    "def move_folder_up_two_levels(folder_path):\n",
    "    \"\"\"Move a folder up two levels within the directory structure.\n",
    "    \n",
    "    Args:\n",
    "        folder_path (str): The path of the folder to be moved.\n",
    "    \n",
    "    Returns:\n",
    "        None\n",
    "    \n",
    "    Raises:\n",
    "        FileNotFoundError: If the specified folder does not exist.\n",
    "    \"\"\"\n",
    "\n",
    "    # Check if the folder exists\n",
    "    if not os.path.exists(folder_path):\n",
    "        raise FileNotFoundError(f\"Folder '{folder_path}' does not exist.\")\n",
    "\n",
    "    # Get the parent directory path\n",
    "    parent_dir = os.path.dirname(folder_path)\n",
    "\n",
    "    # Get the grandparent directory path\n",
    "    grandparent_dir = os.path.dirname(parent_dir)\n",
    "\n",
    "    # Specify the new destination path\n",
    "    new_folder_path = os.path.join(grandparent_dir, os.path.basename(folder_path))\n",
    "\n",
    "    # Move the folder to the new destination\n",
    "    shutil.move(folder_path, new_folder_path)\n",
    "\n",
    "    print(f\"Folder moved successfully to {new_folder_path}\")\n"
   ]
  },
  {
   "cell_type": "code",
   "execution_count": 7,
   "metadata": {},
   "outputs": [
    {
     "name": "stdout",
     "output_type": "stream",
     "text": [
      "Folder moved successfully to c:\\Users\\DhrCS\\Documents\\GitHub\\American_Sign_language\\Data\\train\n",
      "Folder moved successfully to c:\\Users\\DhrCS\\Documents\\GitHub\\American_Sign_language\\Data\\val\n"
     ]
    }
   ],
   "source": [
    "move_folder_up_two_levels(os.path.join(dirData, 'splitdata\\\\train'))\n",
    "move_folder_up_two_levels(os.path.join(dirData, 'splitdata\\\\val'))"
   ]
  },
  {
   "cell_type": "code",
   "execution_count": 8,
   "metadata": {},
   "outputs": [
    {
     "data": {
      "text/plain": [
       "['splitdata',\n",
       " 'Test',\n",
       " 'Test_ABCD',\n",
       " 'train',\n",
       " 'Train_ABCD',\n",
       " 'Train_Original',\n",
       " 'val']"
      ]
     },
     "execution_count": 8,
     "metadata": {},
     "output_type": "execute_result"
    }
   ],
   "source": [
    "os.listdir(dirData)"
   ]
  },
  {
   "attachments": {},
   "cell_type": "markdown",
   "metadata": {},
   "source": [
    "# Modelling"
   ]
  },
  {
   "cell_type": "code",
   "execution_count": 9,
   "metadata": {},
   "outputs": [],
   "source": [
    "# remember our data directory, now take the 'train' and 'val' paths\n",
    "dirTrain = os.path.join(dirData, 'train')\n",
    "dirVal = os.path.join(dirData, 'val')"
   ]
  },
  {
   "cell_type": "code",
   "execution_count": 10,
   "metadata": {},
   "outputs": [
    {
     "data": {
      "text/plain": [
       "['A', 'B', 'C', 'D']"
      ]
     },
     "execution_count": 10,
     "metadata": {},
     "output_type": "execute_result"
    }
   ],
   "source": [
    "# make sure the number of labels matches\n",
    "if os.listdir(dirTrain) == os.listdir(dirVal):\n",
    "    labels = os.listdir(dirTrain)\n",
    "labels"
   ]
  },
  {
   "cell_type": "code",
   "execution_count": 11,
   "metadata": {},
   "outputs": [],
   "source": [
    "# settings new images for data training\n",
    "setTrain = ImageDataGenerator(rescale = 1./255,\n",
    "                              horizontal_flip = True, # remember to also build for right hand\n",
    "                              fill_mode = 'nearest',\n",
    "                              brightness_range = [0.6, 2.1],\n",
    "                              zoom_range = 0.32)\n",
    "\n",
    "# settings new images for data validation\n",
    "setVal = ImageDataGenerator(rescale = 1./255)"
   ]
  },
  {
   "cell_type": "code",
   "execution_count": 12,
   "metadata": {},
   "outputs": [
    {
     "name": "stdout",
     "output_type": "stream",
     "text": [
      "Found 19184 images belonging to 4 classes.\n",
      "Found 4800 images belonging to 4 classes.\n",
      "{'A': 0, 'B': 1, 'C': 2, 'D': 3}\n"
     ]
    }
   ],
   "source": [
    "# generate new images for data training\n",
    "genTrain = setTrain.flow_from_directory(dirTrain,\n",
    "                                        target_size = (200, 200),\n",
    "                                        batch_size = 32,\n",
    "                                        class_mode = 'categorical',\n",
    "                                        seed = 250)\n",
    "\n",
    "# generate new images for data validation\n",
    "genVal = setVal.flow_from_directory(dirVal,\n",
    "                                    target_size = (200, 200),\n",
    "                                    batch_size = 32,\n",
    "                                    class_mode = 'categorical',\n",
    "                                    seed = 250)\n",
    "# does the label match? good!\n",
    "if genTrain.class_indices == genVal.class_indices:\n",
    "    print(genTrain.class_indices)"
   ]
  },
  {
   "cell_type": "code",
   "execution_count": 13,
   "metadata": {},
   "outputs": [
    {
     "name": "stdout",
     "output_type": "stream",
     "text": [
      "Model: \"sequential\"\n",
      "_________________________________________________________________\n",
      " Layer (type)                Output Shape              Param #   \n",
      "=================================================================\n",
      " conv2d (Conv2D)             (None, 194, 194, 32)      4736      \n",
      "                                                                 \n",
      " max_pooling2d (MaxPooling2D  (None, 97, 97, 32)       0         \n",
      " )                                                               \n",
      "                                                                 \n",
      " conv2d_1 (Conv2D)           (None, 93, 93, 64)        51264     \n",
      "                                                                 \n",
      " max_pooling2d_1 (MaxPooling  (None, 46, 46, 64)       0         \n",
      " 2D)                                                             \n",
      "                                                                 \n",
      " conv2d_2 (Conv2D)           (None, 44, 44, 128)       73856     \n",
      "                                                                 \n",
      " dropout (Dropout)           (None, 44, 44, 128)       0         \n",
      "                                                                 \n",
      " max_pooling2d_2 (MaxPooling  (None, 22, 22, 128)      0         \n",
      " 2D)                                                             \n",
      "                                                                 \n",
      " flatten (Flatten)           (None, 61952)             0         \n",
      "                                                                 \n",
      " dense (Dense)               (None, 512)               31719936  \n",
      "                                                                 \n",
      " dropout_1 (Dropout)         (None, 512)               0         \n",
      "                                                                 \n",
      " dense_1 (Dense)             (None, 4)                 2052      \n",
      "                                                                 \n",
      "=================================================================\n",
      "Total params: 31,851,844\n",
      "Trainable params: 31,851,844\n",
      "Non-trainable params: 0\n",
      "_________________________________________________________________\n"
     ]
    }
   ],
   "source": [
    "# i don't know why but, it seems this model is inspired by VGG architecture\n",
    "def mainModel():\n",
    "    model = Sequential()\n",
    "    inputSize = (200, 200, 3)\n",
    "    \n",
    "    model.add(Conv2D(32, (7, 7), activation = 'relu',\n",
    "                     input_shape = inputSize))\n",
    "    model.add(MaxPooling2D(2, 2))\n",
    "    \n",
    "    model.add(Conv2D(64, (5, 5), activation = 'relu'))\n",
    "    model.add(MaxPooling2D(2, 2))\n",
    "    \n",
    "    model.add(Conv2D(128, (3, 3), activation = 'relu'))\n",
    "    model.add(Dropout(0.3))\n",
    "    model.add(MaxPooling2D(2, 2))\n",
    "    \n",
    "    model.add(Flatten())\n",
    "    model.add(Dense(512, activation = 'relu'))\n",
    "    model.add(Dropout(0.3))\n",
    "    model.add(Dense(len(genTrain.class_indices), # remember the number of letters of the alphabet, it's 26!\n",
    "                    activation = 'softmax'))\n",
    "    \n",
    "    return model\n",
    "\n",
    "# show the model summary\n",
    "model = mainModel()\n",
    "model.summary()"
   ]
  },
  {
   "cell_type": "code",
   "execution_count": 14,
   "metadata": {},
   "outputs": [],
   "source": [
    "# compile the model\n",
    "model.compile(loss = 'categorical_crossentropy',\n",
    "              optimizer = tf.optimizers.Adam(learning_rate = 0.0015),\n",
    "              metrics = ['accuracy'])"
   ]
  },
  {
   "cell_type": "code",
   "execution_count": 15,
   "metadata": {},
   "outputs": [
    {
     "ename": "",
     "evalue": "",
     "output_type": "error",
     "traceback": [
      "\u001b[1;31mCannot execute code, session has been disposed. Please try restarting the Kernel."
     ]
    },
    {
     "ename": "",
     "evalue": "",
     "output_type": "error",
     "traceback": [
      "\u001b[1;31mThe Kernel crashed while executing code in the the current cell or a previous cell. Please review the code in the cell(s) to identify a possible cause of the failure. Click <a href='https://aka.ms/vscodeJupyterKernelCrash'>here</a> for more info. View Jupyter <a href='command:jupyter.viewOutput'>log</a> for further details."
     ]
    }
   ],
   "source": [
    "# train the model\n",
    "model.fit(genTrain,\n",
    "          batch_size = 32,\n",
    "          steps_per_epoch = 32,\n",
    "          epochs = 25,\n",
    "          validation_data = genVal,\n",
    "          validation_steps = 2,\n",
    "          verbose = 2)"
   ]
  },
  {
   "cell_type": "code",
   "execution_count": null,
   "metadata": {},
   "outputs": [],
   "source": []
  }
 ],
 "metadata": {
  "kernelspec": {
   "display_name": "ASL",
   "language": "python",
   "name": "python3"
  },
  "language_info": {
   "codemirror_mode": {
    "name": "ipython",
    "version": 3
   },
   "file_extension": ".py",
   "mimetype": "text/x-python",
   "name": "python",
   "nbconvert_exporter": "python",
   "pygments_lexer": "ipython3",
   "version": "3.10.11"
  },
  "orig_nbformat": 4
 },
 "nbformat": 4,
 "nbformat_minor": 2
}
